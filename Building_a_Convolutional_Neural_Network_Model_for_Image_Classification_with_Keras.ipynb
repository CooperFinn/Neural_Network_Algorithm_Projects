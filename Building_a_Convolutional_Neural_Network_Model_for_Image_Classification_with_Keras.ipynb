{
  "nbformat": 4,
  "nbformat_minor": 0,
  "metadata": {
    "colab": {
      "name": "Building a Convolutional Neural Network Model for Image Classification with Keras.ipynb",
      "version": "0.3.2",
      "provenance": [],
      "collapsed_sections": [],
      "include_colab_link": true
    },
    "kernelspec": {
      "name": "python3",
      "display_name": "Python 3"
    }
  },
  "cells": [
    {
      "cell_type": "markdown",
      "metadata": {
        "id": "view-in-github",
        "colab_type": "text"
      },
      "source": [
        "<a href=\"https://colab.research.google.com/github/CooperFinn/Neural_Network_Algorithm_Projects/blob/master/Building_a_Convolutional_Neural_Network_Model_for_Image_Classification_with_Keras.ipynb\" target=\"_parent\"><img src=\"https://colab.research.google.com/assets/colab-badge.svg\" alt=\"Open In Colab\"/></a>"
      ]
    },
    {
      "metadata": {
        "id": "Wbn57U11Iyvx",
        "colab_type": "text"
      },
      "cell_type": "markdown",
      "source": [
        "# Building a Convolutional Neural Network  for Image Classification with Keras"
      ]
    },
    {
      "metadata": {
        "id": "PjfD4TvDJL-B",
        "colab_type": "text"
      },
      "cell_type": "markdown",
      "source": [
        "#1.Setup"
      ]
    },
    {
      "metadata": {
        "id": "h-Iv3DCQJMy7",
        "colab_type": "code",
        "outputId": "66794b9a-507c-45ab-97a7-3d6e36a9e5aa",
        "colab": {
          "base_uri": "https://localhost:8080/",
          "height": 34
        }
      },
      "cell_type": "code",
      "source": [
        "import keras\n",
        "from keras.datasets import cifar10\n",
        "from keras.models import Sequential\n",
        "from keras.layers import Dense, Dropout, Flatten, Conv2D, MaxPooling2D\n",
        "\n",
        "import numpy as np\n",
        "import matplotlib.pyplot as plt"
      ],
      "execution_count": 0,
      "outputs": [
        {
          "output_type": "stream",
          "text": [
            "Using TensorFlow backend.\n"
          ],
          "name": "stderr"
        }
      ]
    },
    {
      "metadata": {
        "id": "-ioxKU17JNCa",
        "colab_type": "text"
      },
      "cell_type": "markdown",
      "source": [
        "#2.Load and Examine Data"
      ]
    },
    {
      "metadata": {
        "id": "vqBBJ5_DJj3T",
        "colab_type": "code",
        "outputId": "53ad42a6-d12d-4e3b-81d1-ab3b514ca0c2",
        "colab": {
          "base_uri": "https://localhost:8080/",
          "height": 85
        }
      },
      "cell_type": "code",
      "source": [
        "(x_train, y_train), (x_test, y_test) = cifar10.load_data()\n",
        "print(x_train.shape)\n",
        "print(y_train.shape)"
      ],
      "execution_count": 0,
      "outputs": [
        {
          "output_type": "stream",
          "text": [
            "Downloading data from https://www.cs.toronto.edu/~kriz/cifar-10-python.tar.gz\n",
            "170500096/170498071 [==============================] - 6s 0us/step\n",
            "(50000, 32, 32, 3)\n",
            "(50000, 1)\n"
          ],
          "name": "stdout"
        }
      ]
    },
    {
      "metadata": {
        "id": "2REMjcU2ltmy",
        "colab_type": "code",
        "colab": {}
      },
      "cell_type": "code",
      "source": [
        "x_train[7]"
      ],
      "execution_count": 0,
      "outputs": []
    },
    {
      "metadata": {
        "id": "Og6Pzma0KU7_",
        "colab_type": "code",
        "outputId": "29cbc495-91ee-47b8-93e7-8fc9f4df6143",
        "colab": {
          "base_uri": "https://localhost:8080/",
          "height": 269
        }
      },
      "cell_type": "code",
      "source": [
        "show_image=plt.imshow(x_train[7])"
      ],
      "execution_count": 0,
      "outputs": [
        {
          "output_type": "display_data",
          "data": {
            "image/png": "[encoded data removed]",
            "text/plain": [
              "<Figure size 432x288 with 1 Axes>"
            ]
          },
          "metadata": {
            "tags": []
          }
        }
      ]
    },
    {
      "metadata": {
        "id": "xTocIrqfmapc",
        "colab_type": "code",
        "outputId": "1e10ccff-b82c-42c4-add6-7d3bbc9230f0",
        "colab": {
          "base_uri": "https://localhost:8080/",
          "height": 34
        }
      },
      "cell_type": "code",
      "source": [
        "y_train[7]"
      ],
      "execution_count": 0,
      "outputs": [
        {
          "output_type": "execute_result",
          "data": {
            "text/plain": [
              "array([7], dtype=uint8)"
            ]
          },
          "metadata": {
            "tags": []
          },
          "execution_count": 14
        }
      ]
    },
    {
      "metadata": {
        "id": "Q0gADIezKz2P",
        "colab_type": "code",
        "outputId": "d7c2c402-07e1-4333-e0bf-d2633570b9db",
        "colab": {
          "base_uri": "https://localhost:8080/",
          "height": 34
        }
      },
      "cell_type": "code",
      "source": [
        "y_train_one_hot = keras.utils.to_categorical(y_train, 10)\n",
        "y_test_one_hot = keras.utils.to_categorical(y_test, 10)\n",
        "print('The one hot label is:', y_train_one_hot[7])"
      ],
      "execution_count": 0,
      "outputs": [
        {
          "output_type": "stream",
          "text": [
            "The one hot label is: [0. 0. 0. 0. 0. 0. 0. 1. 0. 0.]\n"
          ],
          "name": "stdout"
        }
      ]
    },
    {
      "metadata": {
        "id": "ZxJoozKiMFF0",
        "colab_type": "code",
        "outputId": "8974c3c1-64b1-4ea7-c286-5e5740ddce6b",
        "colab": {
          "base_uri": "https://localhost:8080/",
          "height": 850
        }
      },
      "cell_type": "code",
      "source": [
        "# normalize data\n",
        "x_train = x_train.astype('float32')\n",
        "x_test = x_test.astype('float32')\n",
        "x_train = x_train / 255\n",
        "x_test = x_test / 255\n",
        "x_train[7]"
      ],
      "execution_count": 0,
      "outputs": [
        {
          "output_type": "execute_result",
          "data": {
            "text/plain": [
              "array([[[0.10980392, 0.13725491, 0.15294118],\n",
              "        [0.11764706, 0.13333334, 0.17254902],\n",
              "        [0.12941177, 0.17254902, 0.18431373],\n",
              "        ...,\n",
              "        [0.16862746, 0.21960784, 0.1764706 ],\n",
              "        [0.20392157, 0.2509804 , 0.20784314],\n",
              "        [0.18039216, 0.22745098, 0.18431373]],\n",
              "\n",
              "       [[0.10588235, 0.11764706, 0.14901961],\n",
              "        [0.10588235, 0.10980392, 0.16078432],\n",
              "        [0.08235294, 0.12156863, 0.15294118],\n",
              "        ...,\n",
              "        [0.4392157 , 0.53333336, 0.38039216],\n",
              "        [0.45882353, 0.54901963, 0.39607844],\n",
              "        [0.4509804 , 0.5411765 , 0.39215687]],\n",
              "\n",
              "       [[0.13333334, 0.14117648, 0.16470589],\n",
              "        [0.12941177, 0.12941177, 0.16862746],\n",
              "        [0.09411765, 0.11764706, 0.15686275],\n",
              "        ...,\n",
              "        [0.6862745 , 0.8156863 , 0.56078434],\n",
              "        [0.69411767, 0.81960785, 0.5647059 ],\n",
              "        [0.6901961 , 0.8156863 , 0.56078434]],\n",
              "\n",
              "       ...,\n",
              "\n",
              "       [[0.5568628 , 0.6901961 , 0.4627451 ],\n",
              "        [0.5568628 , 0.6901961 , 0.4627451 ],\n",
              "        [0.5882353 , 0.72156864, 0.49803922],\n",
              "        ...,\n",
              "        [0.5254902 , 0.6862745 , 0.46666667],\n",
              "        [0.5019608 , 0.65882355, 0.4392157 ],\n",
              "        [0.5254902 , 0.6862745 , 0.46666667]],\n",
              "\n",
              "       [[0.54901963, 0.6901961 , 0.4862745 ],\n",
              "        [0.5686275 , 0.7058824 , 0.5058824 ],\n",
              "        [0.5882353 , 0.7294118 , 0.5254902 ],\n",
              "        ...,\n",
              "        [0.5137255 , 0.6666667 , 0.46666667],\n",
              "        [0.50980395, 0.6666667 , 0.46666667],\n",
              "        [0.47843137, 0.63529414, 0.43529412]],\n",
              "\n",
              "       [[0.5254902 , 0.67058825, 0.48235294],\n",
              "        [0.53333336, 0.67058825, 0.4862745 ],\n",
              "        [0.53333336, 0.67058825, 0.4862745 ],\n",
              "        ...,\n",
              "        [0.41568628, 0.5647059 , 0.39215687],\n",
              "        [0.40784314, 0.5568628 , 0.3882353 ],\n",
              "        [0.39607844, 0.54901963, 0.3764706 ]]], dtype=float32)"
            ]
          },
          "metadata": {
            "tags": []
          },
          "execution_count": 16
        }
      ]
    },
    {
      "metadata": {
        "id": "xUFROpoBJNYl",
        "colab_type": "text"
      },
      "cell_type": "markdown",
      "source": [
        "#3.Build Model"
      ]
    },
    {
      "metadata": {
        "id": "IdojVLqzJNRr",
        "colab_type": "code",
        "colab": {}
      },
      "cell_type": "code",
      "source": [
        "def convolutional_model():\n",
        "    \n",
        "    # create model\n",
        "    model = Sequential()\n",
        "    \n",
        "    model.add(Conv2D(32, (3, 3), activation='relu', padding='same', input_shape=(32,32,3)))\n",
        "    model.add(Conv2D(32, (3, 3), activation='relu', padding='same'))\n",
        "    model.add(MaxPooling2D(pool_size=(2, 2)))\n",
        "    model.add(Dropout(0.25))\n",
        "    model.add(Conv2D(64, (3, 3), activation='relu', padding='same'))\n",
        "    model.add(Conv2D(64, (3, 3), activation='relu', padding='same'))\n",
        "    model.add(MaxPooling2D(pool_size=(2, 2)))\n",
        "    model.add(Dropout(0.25))\n",
        "    model.add(Flatten())\n",
        "    model.add(Dense(512, activation='relu'))\n",
        "    model.add(Dropout(0.5))\n",
        "    model.add(Dense(10, activation='softmax'))\n",
        "    \n",
        "    # Compile model\n",
        "    model.compile(loss='categorical_crossentropy',optimizer='adam',metrics=['accuracy'])\n",
        "    return model"
      ],
      "execution_count": 0,
      "outputs": []
    },
    {
      "metadata": {
        "id": "eCJ-o5HBNYrr",
        "colab_type": "code",
        "outputId": "ca37d3d7-46f5-4741-c937-e33e0a670ded",
        "colab": {
          "base_uri": "https://localhost:8080/",
          "height": 887
        }
      },
      "cell_type": "code",
      "source": [
        "model=convolutional_model()\n",
        "hist=model.fit(x_train, y_train_one_hot,batch_size=32, epochs=20,validation_split=0.2)"
      ],
      "execution_count": 0,
      "outputs": [
        {
          "output_type": "stream",
          "text": [
            "WARNING:tensorflow:From /usr/local/lib/python3.6/dist-packages/tensorflow/python/framework/op_def_library.py:263: colocate_with (from tensorflow.python.framework.ops) is deprecated and will be removed in a future version.\n",
            "Instructions for updating:\n",
            "Colocations handled automatically by placer.\n",
            "WARNING:tensorflow:From /usr/local/lib/python3.6/dist-packages/keras/backend/tensorflow_backend.py:3445: calling dropout (from tensorflow.python.ops.nn_ops) with keep_prob is deprecated and will be removed in a future version.\n",
            "Instructions for updating:\n",
            "Please use `rate` instead of `keep_prob`. Rate should be set to `rate = 1 - keep_prob`.\n",
            "WARNING:tensorflow:From /usr/local/lib/python3.6/dist-packages/tensorflow/python/ops/math_ops.py:3066: to_int32 (from tensorflow.python.ops.math_ops) is deprecated and will be removed in a future version.\n",
            "Instructions for updating:\n",
            "Use tf.cast instead.\n",
            "Train on 40000 samples, validate on 10000 samples\n",
            "Epoch 1/20\n",
            "40000/40000 [==============================] - 326s 8ms/step - loss: 1.5797 - acc: 0.4220 - val_loss: 1.2844 - val_acc: 0.5376\n",
            "Epoch 2/20\n",
            "40000/40000 [==============================] - 325s 8ms/step - loss: 1.1696 - acc: 0.5841 - val_loss: 0.9711 - val_acc: 0.6556\n",
            "Epoch 3/20\n",
            "40000/40000 [==============================] - 327s 8ms/step - loss: 1.0027 - acc: 0.6449 - val_loss: 0.8517 - val_acc: 0.7020\n",
            "Epoch 4/20\n",
            "40000/40000 [==============================] - 327s 8ms/step - loss: 0.9023 - acc: 0.6821 - val_loss: 0.7974 - val_acc: 0.7206\n",
            "Epoch 5/20\n",
            "40000/40000 [==============================] - 330s 8ms/step - loss: 0.8315 - acc: 0.7085 - val_loss: 0.8014 - val_acc: 0.7152\n",
            "Epoch 6/20\n",
            "40000/40000 [==============================] - 328s 8ms/step - loss: 0.7686 - acc: 0.7259 - val_loss: 0.7758 - val_acc: 0.7316\n",
            "Epoch 7/20\n",
            "40000/40000 [==============================] - 325s 8ms/step - loss: 0.7237 - acc: 0.7447 - val_loss: 0.7258 - val_acc: 0.7487\n",
            "Epoch 8/20\n",
            "40000/40000 [==============================] - 327s 8ms/step - loss: 0.6755 - acc: 0.7594 - val_loss: 0.7245 - val_acc: 0.7484\n",
            "Epoch 9/20\n",
            "40000/40000 [==============================] - 326s 8ms/step - loss: 0.6374 - acc: 0.7753 - val_loss: 0.7376 - val_acc: 0.7461\n",
            "Epoch 10/20\n",
            "40000/40000 [==============================] - 325s 8ms/step - loss: 0.6093 - acc: 0.7857 - val_loss: 0.6857 - val_acc: 0.7627\n",
            "Epoch 11/20\n",
            "40000/40000 [==============================] - 325s 8ms/step - loss: 0.5824 - acc: 0.7963 - val_loss: 0.7070 - val_acc: 0.7614\n",
            "Epoch 12/20\n",
            "40000/40000 [==============================] - 324s 8ms/step - loss: 0.5461 - acc: 0.8060 - val_loss: 0.7201 - val_acc: 0.7650\n",
            "Epoch 13/20\n",
            "40000/40000 [==============================] - 326s 8ms/step - loss: 0.5338 - acc: 0.8115 - val_loss: 0.7261 - val_acc: 0.7649\n",
            "Epoch 14/20\n",
            "40000/40000 [==============================] - 327s 8ms/step - loss: 0.5130 - acc: 0.8177 - val_loss: 0.6891 - val_acc: 0.7712\n",
            "Epoch 15/20\n",
            "40000/40000 [==============================] - 330s 8ms/step - loss: 0.4857 - acc: 0.8300 - val_loss: 0.6917 - val_acc: 0.7699\n",
            "Epoch 16/20\n",
            "40000/40000 [==============================] - 329s 8ms/step - loss: 0.4791 - acc: 0.8307 - val_loss: 0.7001 - val_acc: 0.7773\n",
            "Epoch 17/20\n",
            "40000/40000 [==============================] - 328s 8ms/step - loss: 0.4544 - acc: 0.8407 - val_loss: 0.6832 - val_acc: 0.7732\n",
            "Epoch 18/20\n",
            "40000/40000 [==============================] - 327s 8ms/step - loss: 0.4502 - acc: 0.8417 - val_loss: 0.6898 - val_acc: 0.7740\n",
            "Epoch 19/20\n",
            "40000/40000 [==============================] - 327s 8ms/step - loss: 0.4312 - acc: 0.8463 - val_loss: 0.7053 - val_acc: 0.7712\n",
            "Epoch 20/20\n",
            "40000/40000 [==============================] - 329s 8ms/step - loss: 0.4261 - acc: 0.8499 - val_loss: 0.7016 - val_acc: 0.7742\n"
          ],
          "name": "stdout"
        }
      ]
    },
    {
      "metadata": {
        "id": "0oahCVNLsvgk",
        "colab_type": "code",
        "outputId": "1b47f88a-b363-4498-bfaa-c6a046898fb5",
        "colab": {
          "base_uri": "https://localhost:8080/",
          "height": 295
        }
      },
      "cell_type": "code",
      "source": [
        "# visualize the model training and validation loss\n",
        "plt.plot(hist.history['loss'])\n",
        "plt.plot(hist.history['val_loss'])\n",
        "plt.title('Model loss')\n",
        "plt.ylabel('Loss')\n",
        "plt.xlabel('Epoch')\n",
        "plt.legend(['Train', 'Val'], loc='upper right')\n",
        "plt.show()"
      ],
      "execution_count": 0,
      "outputs": [
        {
          "output_type": "display_data",
          "data": {
            "image/png": "[encoded data removed]",
            "text/plain": [
              "<Figure size 432x288 with 1 Axes>"
            ]
          },
          "metadata": {
            "tags": []
          }
        }
      ]
    },
    {
      "metadata": {
        "id": "29edGQ9gppSh",
        "colab_type": "code",
        "outputId": "7ef3b461-17dc-4701-c109-415c9df7f51f",
        "colab": {
          "base_uri": "https://localhost:8080/",
          "height": 295
        }
      },
      "cell_type": "code",
      "source": [
        "# visualize the accuracy\n",
        "plt.plot(hist.history['acc'])\n",
        "plt.plot(hist.history['val_acc'])\n",
        "plt.title('Model accuracy')\n",
        "plt.ylabel('Accuracy')\n",
        "plt.xlabel('Epoch')\n",
        "plt.legend(['Train', 'Val'], loc='lower right')\n",
        "plt.show()"
      ],
      "execution_count": 0,
      "outputs": [
        {
          "output_type": "display_data",
          "data": {
            "image/png": "[encoded data removed]",
            "text/plain": [
              "<Figure size 432x288 with 1 Axes>"
            ]
          },
          "metadata": {
            "tags": []
          }
        }
      ]
    },
    {
      "metadata": {
        "id": "GPyK9OUjJX2b",
        "colab_type": "code",
        "outputId": "c558acb1-8be4-4453-fe0b-3d02360c9710",
        "colab": {
          "base_uri": "https://localhost:8080/",
          "height": 51
        }
      },
      "cell_type": "code",
      "source": [
        "model.evaluate(x_test, y_test_one_hot)[1]"
      ],
      "execution_count": 0,
      "outputs": [
        {
          "output_type": "stream",
          "text": [
            "10000/10000 [==============================] - 21s 2ms/step\n"
          ],
          "name": "stdout"
        },
        {
          "output_type": "execute_result",
          "data": {
            "text/plain": [
              "0.7725"
            ]
          },
          "metadata": {
            "tags": []
          },
          "execution_count": 23
        }
      ]
    },
    {
      "metadata": {
        "id": "YA0gmamppxlk",
        "colab_type": "code",
        "colab": {}
      },
      "cell_type": "code",
      "source": [
        "# save the trained model\n",
        "model.save('cooper_cifar10_model.h5')"
      ],
      "execution_count": 0,
      "outputs": []
    },
    {
      "metadata": {
        "id": "1m9eKd1sjYPJ",
        "colab_type": "text"
      },
      "cell_type": "markdown",
      "source": [
        "Source:https://medium.com/intuitive-deep-learning/build-your-first-convolutional-neural-network-to-recognize-images-84b9c78fe0ce"
      ]
    }
  ]
}